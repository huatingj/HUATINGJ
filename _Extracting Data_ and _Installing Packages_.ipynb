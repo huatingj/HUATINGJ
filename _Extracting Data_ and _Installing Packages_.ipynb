{
 "cells": [
  {
   "cell_type": "code",
   "execution_count": 1,
   "metadata": {},
   "outputs": [
    {
     "name": "stdout",
     "output_type": "stream",
     "text": [
      "Done downloading yellow_tripdata_2018-01.csv to large with size 0.72GB\n",
      "Done downloading yellow_tripdata_2018-02.csv to large with size 0.70GB\n",
      "Done downloading yellow_tripdata_2018-03.csv to large with size 0.77GB\n",
      "Done downloading yellow_tripdata_2018-04.csv to large with size 0.76GB\n",
      "Done downloading yellow_tripdata_2018-05.csv to large with size 0.76GB\n",
      "Done downloading yellow_tripdata_2018-06.csv to large with size 0.72GB\n",
      "Done downloading yellow_tripdata_2018-07.csv to large with size 0.64GB\n",
      "Done downloading yellow_tripdata_2018-08.csv to large with size 0.64GB\n",
      "Done downloading yellow_tripdata_2018-09.csv to large with size 0.66GB\n",
      "Done downloading yellow_tripdata_2018-10.csv to large with size 0.73GB\n",
      "Done downloading yellow_tripdata_2018-11.csv to large with size 0.67GB\n",
      "Done downloading yellow_tripdata_2018-12.csv to large with size 0.67GB\n"
     ]
    }
   ],
   "source": [
    "from os.path import getsize\n",
    "from urllib.request import urlretrieve\n",
    "\n",
    "# you will need to create the \"large\" folder if it does not exist\n",
    "# you can also change this to change where you want the data to be downloaded\n",
    "output_dir = \"large\"\n",
    "\n",
    "# template for the type of taxi / year you wish to download\n",
    "fname_template = \"yellow_tripdata_2018\"\n",
    "\n",
    "# change range(x, y) to be the months you want\n",
    "for m in range(1, 13):\n",
    "    month = str(m).zfill(2)\n",
    "    out = f'{fname_template}-{month}.csv'\n",
    "    url = f\"https://s3.amazonaws.com/nyc-tlc/trip+data/{out}\"\n",
    "    urlretrieve(url, f\"{output_dir}/{out}\")\n",
    "\n",
    "    print(f\"Done downloading {out} to {output_dir} with size {getsize(f'{output_dir}/{out}') / 1073741824:.2f}GB\")"
   ]
  },
  {
   "cell_type": "code",
   "execution_count": null,
   "metadata": {},
   "outputs": [],
   "source": []
  }
 ],
 "metadata": {
  "kernelspec": {
   "display_name": "Python 3 (Anaconda 3)",
   "language": "python",
   "name": "python3"
  },
  "language_info": {
   "codemirror_mode": {
    "name": "ipython",
    "version": 3
   },
   "file_extension": ".py",
   "mimetype": "text/x-python",
   "name": "python",
   "nbconvert_exporter": "python",
   "pygments_lexer": "ipython3",
   "version": "3.8.2"
  }
 },
 "nbformat": 4,
 "nbformat_minor": 4
}
